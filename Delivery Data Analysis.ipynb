{
 "cells": [
  {
   "cell_type": "markdown",
   "id": "fa181d93",
   "metadata": {},
   "source": [
    "## Introduction"
   ]
  },
  {
   "cell_type": "markdown",
   "id": "c7e9881d",
   "metadata": {},
   "source": [
    "The purpose of this project is to explore insights from a company's delivery data. The data contains information on the company's orders, including the warehouses from where they were ordered, the order date, delivery date, customer code, and customer Zip codes. The analysis is primarily done using the Python pandas module.\n",
    "\n",
    "The analysis aims to nswer the following questions;\n",
    "\n",
    "- Which Zip code has the most orders?\n",
    "- What was the ratio of one-time customers to returning customers?\n",
    "- What is the distribution of order times? (When are customers likley to make orders?)\n",
    "- What was the average delivery time for one-time customers versus returning customers?\n",
    "- What was the average deliery time across Zip codes and in each month?\n",
    "- Which warehouse had the most orders in each Zip code?\n",
    "- Did orders increase or decrease each month across Zip codes?\n",
    "- Which season had the fastest deliveries?\n",
    "- Which warehouse had the fastest deliveries?"
   ]
  },
  {
   "cell_type": "markdown",
   "id": "638f0400",
   "metadata": {},
   "source": [
    "### Importing Relevant Libraries and the Dataset"
   ]
  },
  {
   "cell_type": "code",
   "execution_count": 24,
   "id": "ba404472",
   "metadata": {},
   "outputs": [],
   "source": [
    "import pandas as pd\n",
    "import matplotlib.pyplot as plt\n"
   ]
  },
  {
   "cell_type": "code",
   "execution_count": 2,
   "id": "66b4ea08",
   "metadata": {
    "scrolled": false
   },
   "outputs": [
    {
     "data": {
      "text/html": [
       "<div>\n",
       "<style scoped>\n",
       "    .dataframe tbody tr th:only-of-type {\n",
       "        vertical-align: middle;\n",
       "    }\n",
       "\n",
       "    .dataframe tbody tr th {\n",
       "        vertical-align: top;\n",
       "    }\n",
       "\n",
       "    .dataframe thead th {\n",
       "        text-align: right;\n",
       "    }\n",
       "</style>\n",
       "<table border=\"1\" class=\"dataframe\">\n",
       "  <thead>\n",
       "    <tr style=\"text-align: right;\">\n",
       "      <th></th>\n",
       "      <th>S/N</th>\n",
       "      <th>Warehouse</th>\n",
       "      <th>Order date</th>\n",
       "      <th>Delivery date</th>\n",
       "      <th>Customer</th>\n",
       "      <th>Zipcode</th>\n",
       "    </tr>\n",
       "  </thead>\n",
       "  <tbody>\n",
       "    <tr>\n",
       "      <th>0</th>\n",
       "      <td>1</td>\n",
       "      <td>Butler</td>\n",
       "      <td>2021-01-03 13:44:00</td>\n",
       "      <td>2021-01-03 18:39:00</td>\n",
       "      <td>8240</td>\n",
       "      <td>15317</td>\n",
       "    </tr>\n",
       "    <tr>\n",
       "      <th>1</th>\n",
       "      <td>2</td>\n",
       "      <td>McKees Rocks</td>\n",
       "      <td>2021-01-04 06:26:00</td>\n",
       "      <td>2021-01-04 15:28:00</td>\n",
       "      <td>484</td>\n",
       "      <td>15102</td>\n",
       "    </tr>\n",
       "    <tr>\n",
       "      <th>2</th>\n",
       "      <td>3</td>\n",
       "      <td>Butler</td>\n",
       "      <td>2021-01-04 06:29:00</td>\n",
       "      <td>2021-01-04 19:29:00</td>\n",
       "      <td>13512</td>\n",
       "      <td>15301</td>\n",
       "    </tr>\n",
       "    <tr>\n",
       "      <th>3</th>\n",
       "      <td>4</td>\n",
       "      <td>Butler</td>\n",
       "      <td>2021-01-04 07:31:00</td>\n",
       "      <td>2021-01-04 15:59:00</td>\n",
       "      <td>11326</td>\n",
       "      <td>15228</td>\n",
       "    </tr>\n",
       "    <tr>\n",
       "      <th>4</th>\n",
       "      <td>5</td>\n",
       "      <td>Butler</td>\n",
       "      <td>2021-01-04 19:12:00</td>\n",
       "      <td>2021-02-04 16:10:00</td>\n",
       "      <td>13306</td>\n",
       "      <td>15301</td>\n",
       "    </tr>\n",
       "  </tbody>\n",
       "</table>\n",
       "</div>"
      ],
      "text/plain": [
       "   S/N     Warehouse           Order date        Delivery date Customer  \\\n",
       "0    1        Butler  2021-01-03 13:44:00  2021-01-03 18:39:00     8240   \n",
       "1    2  McKees Rocks  2021-01-04 06:26:00  2021-01-04 15:28:00      484   \n",
       "2    3        Butler  2021-01-04 06:29:00  2021-01-04 19:29:00    13512   \n",
       "3    4        Butler  2021-01-04 07:31:00  2021-01-04 15:59:00    11326   \n",
       "4    5        Butler  2021-01-04 19:12:00  2021-02-04 16:10:00    13306   \n",
       "\n",
       "   Zipcode  \n",
       "0    15317  \n",
       "1    15102  \n",
       "2    15301  \n",
       "3    15228  \n",
       "4    15301  "
      ]
     },
     "execution_count": 2,
     "metadata": {},
     "output_type": "execute_result"
    }
   ],
   "source": [
    "df = pd.read_excel(\"Delivery_dataset.xlsx\")\n",
    "df.head()"
   ]
  },
  {
   "cell_type": "code",
   "execution_count": 3,
   "id": "690d262a",
   "metadata": {},
   "outputs": [
    {
     "data": {
      "text/html": [
       "<div>\n",
       "<style scoped>\n",
       "    .dataframe tbody tr th:only-of-type {\n",
       "        vertical-align: middle;\n",
       "    }\n",
       "\n",
       "    .dataframe tbody tr th {\n",
       "        vertical-align: top;\n",
       "    }\n",
       "\n",
       "    .dataframe thead th {\n",
       "        text-align: right;\n",
       "    }\n",
       "</style>\n",
       "<table border=\"1\" class=\"dataframe\">\n",
       "  <thead>\n",
       "    <tr style=\"text-align: right;\">\n",
       "      <th></th>\n",
       "      <th>S/N</th>\n",
       "      <th>Warehouse</th>\n",
       "      <th>Order date</th>\n",
       "      <th>Delivery date</th>\n",
       "      <th>Customer</th>\n",
       "      <th>Zipcode</th>\n",
       "    </tr>\n",
       "  </thead>\n",
       "  <tbody>\n",
       "    <tr>\n",
       "      <th>9475</th>\n",
       "      <td>9476</td>\n",
       "      <td>Pittsburgh Mills</td>\n",
       "      <td>9/30/2022 9:05</td>\n",
       "      <td>2022-03-10 17:45:00</td>\n",
       "      <td>220585</td>\n",
       "      <td>15106</td>\n",
       "    </tr>\n",
       "    <tr>\n",
       "      <th>9476</th>\n",
       "      <td>9477</td>\n",
       "      <td>Butler</td>\n",
       "      <td>9/30/2022 9:13</td>\n",
       "      <td>2022-05-10 17:13:00</td>\n",
       "      <td>17418</td>\n",
       "      <td>15209</td>\n",
       "    </tr>\n",
       "    <tr>\n",
       "      <th>9477</th>\n",
       "      <td>9478</td>\n",
       "      <td>Washington Big Box</td>\n",
       "      <td>9/30/2022 9:13</td>\n",
       "      <td>2022-03-10 18:14:00</td>\n",
       "      <td>270991</td>\n",
       "      <td>15216</td>\n",
       "    </tr>\n",
       "    <tr>\n",
       "      <th>9478</th>\n",
       "      <td>9479</td>\n",
       "      <td>Washington</td>\n",
       "      <td>9/30/2022 9:15</td>\n",
       "      <td>2022-03-10 18:32:00</td>\n",
       "      <td>270991</td>\n",
       "      <td>15216</td>\n",
       "    </tr>\n",
       "    <tr>\n",
       "      <th>9479</th>\n",
       "      <td>9480</td>\n",
       "      <td>Butler</td>\n",
       "      <td>9/30/2022 9:19</td>\n",
       "      <td>2022-04-10 16:09:00</td>\n",
       "      <td>100906</td>\n",
       "      <td>15237</td>\n",
       "    </tr>\n",
       "  </tbody>\n",
       "</table>\n",
       "</div>"
      ],
      "text/plain": [
       "       S/N           Warehouse      Order date        Delivery date Customer  \\\n",
       "9475  9476    Pittsburgh Mills  9/30/2022 9:05  2022-03-10 17:45:00   220585   \n",
       "9476  9477              Butler  9/30/2022 9:13  2022-05-10 17:13:00    17418   \n",
       "9477  9478  Washington Big Box  9/30/2022 9:13  2022-03-10 18:14:00   270991   \n",
       "9478  9479          Washington  9/30/2022 9:15  2022-03-10 18:32:00   270991   \n",
       "9479  9480              Butler  9/30/2022 9:19  2022-04-10 16:09:00   100906   \n",
       "\n",
       "      Zipcode  \n",
       "9475    15106  \n",
       "9476    15209  \n",
       "9477    15216  \n",
       "9478    15216  \n",
       "9479    15237  "
      ]
     },
     "execution_count": 3,
     "metadata": {},
     "output_type": "execute_result"
    }
   ],
   "source": [
    "df.tail()"
   ]
  },
  {
   "cell_type": "code",
   "execution_count": 4,
   "id": "616d5dbb",
   "metadata": {
    "scrolled": true
   },
   "outputs": [
    {
     "name": "stdout",
     "output_type": "stream",
     "text": [
      "<class 'pandas.core.frame.DataFrame'>\n",
      "RangeIndex: 9480 entries, 0 to 9479\n",
      "Data columns (total 6 columns):\n",
      " #   Column         Non-Null Count  Dtype \n",
      "---  ------         --------------  ----- \n",
      " 0   S/N            9480 non-null   int64 \n",
      " 1   Warehouse      9480 non-null   object\n",
      " 2   Order date     9480 non-null   object\n",
      " 3   Delivery date  9480 non-null   object\n",
      " 4   Customer       9480 non-null   object\n",
      " 5   Zipcode        9480 non-null   int64 \n",
      "dtypes: int64(2), object(4)\n",
      "memory usage: 444.5+ KB\n"
     ]
    }
   ],
   "source": [
    "df.info()"
   ]
  },
  {
   "cell_type": "markdown",
   "id": "7d4b0b18",
   "metadata": {},
   "source": [
    "## Data Cleaning"
   ]
  },
  {
   "cell_type": "markdown",
   "id": "c105e3e1",
   "metadata": {},
   "source": [
    "### Data Types\n",
    "\n",
    "Checking if the columns have consistent data types"
   ]
  },
  {
   "cell_type": "code",
   "execution_count": 5,
   "id": "ba53ce04",
   "metadata": {},
   "outputs": [
    {
     "name": "stdout",
     "output_type": "stream",
     "text": [
      "Column 'S/N' has the same data type: <class 'int'>\n",
      "Column 'Warehouse' has the same data type: <class 'str'>\n",
      "Column 'Order date' has more than one type of data.\n",
      "Unique data types: [<class 'datetime.datetime'> <class 'str'>]\n",
      "Column 'Delivery date' has more than one type of data.\n",
      "Unique data types: [<class 'datetime.datetime'> <class 'str'>]\n",
      "Column 'Customer' has more than one type of data.\n",
      "Unique data types: [<class 'int'> <class 'str'>]\n",
      "Column 'Zipcode' has the same data type: <class 'int'>\n"
     ]
    }
   ],
   "source": [
    "for column in df.columns:\n",
    "    \n",
    "    unique_data_types = df[column].apply(type).unique()\n",
    "    \n",
    "    if len(unique_data_types) > 1:\n",
    "        print(f\"Column '{column}' has more than one type of data.\")\n",
    "        print(\"Unique data types:\", unique_data_types)\n",
    "    else:\n",
    "        print(f\"Column '{column}' has the same data type:\", unique_data_types[0])"
   ]
  },
  {
   "cell_type": "markdown",
   "id": "0bde0707",
   "metadata": {},
   "source": [
    "#### Findings\n",
    "\n",
    "The S/N (serial number), Warehouse, and Zip Code columns have the same data types.\n",
    "\n",
    "The Order date, Delivery Date, and Customer columns have more than one datatypes; hence, need cleaning.\n",
    "\n",
    "In the following cells, I will make the following changes;\n",
    "\n",
    "- Order date changed to consistently be datetime datatype\n",
    "- Delivery date changed to consistently be datetime datatype\n",
    "- Customer data type changed to be an int data type\n",
    "- Zip code also changed to a string"
   ]
  },
  {
   "cell_type": "code",
   "execution_count": 6,
   "id": "2628ec00",
   "metadata": {},
   "outputs": [],
   "source": [
    "#Order date and delivery date changes\n",
    "\n",
    "df['Order date'] = pd.to_datetime(df['Order date'])\n",
    "df['Delivery date'] = pd.to_datetime(df['Delivery date'])\n",
    "df['Customer'] = df['Customer'].astype(str)\n",
    "df['Zipcode'] = df['Zipcode'].astype(str)\n"
   ]
  },
  {
   "cell_type": "code",
   "execution_count": 7,
   "id": "bb0040c1",
   "metadata": {},
   "outputs": [
    {
     "name": "stdout",
     "output_type": "stream",
     "text": [
      "Column 'S/N' has the same data type: <class 'int'>\n",
      "Column 'Warehouse' has the same data type: <class 'str'>\n",
      "Column 'Order date' has the same data type: <class 'pandas._libs.tslibs.timestamps.Timestamp'>\n",
      "Column 'Delivery date' has the same data type: <class 'pandas._libs.tslibs.timestamps.Timestamp'>\n",
      "Column 'Customer' has the same data type: <class 'str'>\n",
      "Column 'Zipcode' has the same data type: <class 'str'>\n"
     ]
    }
   ],
   "source": [
    "#rerunning this to confirm changes\n",
    "\n",
    "for column in df.columns:\n",
    "    \n",
    "    unique_data_types = df[column].apply(type).unique()\n",
    "    \n",
    "    if len(unique_data_types) > 1:\n",
    "        print(f\"Column '{column}' has more than one type of data.\")\n",
    "        print(\"Unique data types:\", unique_data_types)\n",
    "    else:\n",
    "        print(f\"Column '{column}' has the same data type:\", unique_data_types[0])"
   ]
  },
  {
   "cell_type": "markdown",
   "id": "a88dcd8d",
   "metadata": {},
   "source": [
    "### Missing Data\n",
    "\n",
    "The following code shows that none of the columns has missing data"
   ]
  },
  {
   "cell_type": "code",
   "execution_count": 8,
   "id": "22adea75",
   "metadata": {},
   "outputs": [
    {
     "name": "stdout",
     "output_type": "stream",
     "text": [
      "S/N              0\n",
      "Warehouse        0\n",
      "Order date       0\n",
      "Delivery date    0\n",
      "Customer         0\n",
      "Zipcode          0\n",
      "dtype: int64\n"
     ]
    }
   ],
   "source": [
    "print(df.isnull().sum())"
   ]
  },
  {
   "cell_type": "markdown",
   "id": "3ddf5158",
   "metadata": {},
   "source": [
    "### Duplicates\n",
    "\n",
    "Checking for possible duplicated data in the dataset"
   ]
  },
  {
   "cell_type": "code",
   "execution_count": 9,
   "id": "d0367237",
   "metadata": {},
   "outputs": [
    {
     "name": "stdout",
     "output_type": "stream",
     "text": [
      "0\n"
     ]
    }
   ],
   "source": [
    "duplicated_data = df.duplicated()\n",
    "\n",
    "num_duplicated = duplicated_data.sum()\n",
    "\n",
    "print(num_duplicated)"
   ]
  },
  {
   "cell_type": "markdown",
   "id": "79ded645",
   "metadata": {},
   "source": [
    "There are no complete duplicates, but there is a possibility of half duplicates. If the Order date, Delivery date, and Customer code are exactly the same, then there is a likelihood that the data is duplicated. Thus, the following code checks for duplicated data with a subset of these three columns."
   ]
  },
  {
   "cell_type": "code",
   "execution_count": 10,
   "id": "ddceef4e",
   "metadata": {},
   "outputs": [
    {
     "name": "stdout",
     "output_type": "stream",
     "text": [
      "264\n"
     ]
    }
   ],
   "source": [
    "half_duplicates = df.duplicated(subset=['Order date', 'Delivery date', 'Customer'], keep=False)\n",
    "print(half_duplicates.sum())"
   ]
  },
  {
   "cell_type": "code",
   "execution_count": 11,
   "id": "a8c70b11",
   "metadata": {},
   "outputs": [
    {
     "data": {
      "text/html": [
       "<div>\n",
       "<style scoped>\n",
       "    .dataframe tbody tr th:only-of-type {\n",
       "        vertical-align: middle;\n",
       "    }\n",
       "\n",
       "    .dataframe tbody tr th {\n",
       "        vertical-align: top;\n",
       "    }\n",
       "\n",
       "    .dataframe thead th {\n",
       "        text-align: right;\n",
       "    }\n",
       "</style>\n",
       "<table border=\"1\" class=\"dataframe\">\n",
       "  <thead>\n",
       "    <tr style=\"text-align: right;\">\n",
       "      <th></th>\n",
       "      <th>S/N</th>\n",
       "      <th>Warehouse</th>\n",
       "      <th>Order date</th>\n",
       "      <th>Delivery date</th>\n",
       "      <th>Customer</th>\n",
       "      <th>Zipcode</th>\n",
       "    </tr>\n",
       "  </thead>\n",
       "  <tbody>\n",
       "    <tr>\n",
       "      <th>14</th>\n",
       "      <td>15</td>\n",
       "      <td>Washington</td>\n",
       "      <td>2021-01-06 21:35:00</td>\n",
       "      <td>2021-02-06 16:44:00</td>\n",
       "      <td>2956</td>\n",
       "      <td>15241</td>\n",
       "    </tr>\n",
       "    <tr>\n",
       "      <th>15</th>\n",
       "      <td>16</td>\n",
       "      <td>McKees Rocks</td>\n",
       "      <td>2021-01-06 21:35:00</td>\n",
       "      <td>2021-02-06 16:44:00</td>\n",
       "      <td>2956</td>\n",
       "      <td>15241</td>\n",
       "    </tr>\n",
       "    <tr>\n",
       "      <th>58</th>\n",
       "      <td>59</td>\n",
       "      <td>Butler</td>\n",
       "      <td>2021-01-12 14:06:00</td>\n",
       "      <td>2021-03-12 15:57:00</td>\n",
       "      <td>11396</td>\n",
       "      <td>15220</td>\n",
       "    </tr>\n",
       "    <tr>\n",
       "      <th>59</th>\n",
       "      <td>60</td>\n",
       "      <td>Beaver</td>\n",
       "      <td>2021-01-12 14:06:00</td>\n",
       "      <td>2021-03-12 15:57:00</td>\n",
       "      <td>11396</td>\n",
       "      <td>15220</td>\n",
       "    </tr>\n",
       "    <tr>\n",
       "      <th>82</th>\n",
       "      <td>83</td>\n",
       "      <td>McKees Rocks</td>\n",
       "      <td>2021-02-08 13:12:00</td>\n",
       "      <td>2021-03-08 16:57:00</td>\n",
       "      <td>16332</td>\n",
       "      <td>15317</td>\n",
       "    </tr>\n",
       "    <tr>\n",
       "      <th>...</th>\n",
       "      <td>...</td>\n",
       "      <td>...</td>\n",
       "      <td>...</td>\n",
       "      <td>...</td>\n",
       "      <td>...</td>\n",
       "      <td>...</td>\n",
       "    </tr>\n",
       "    <tr>\n",
       "      <th>9169</th>\n",
       "      <td>9170</td>\n",
       "      <td>Washington</td>\n",
       "      <td>2021-09-23 20:01:00</td>\n",
       "      <td>2021-09-29 16:35:00</td>\n",
       "      <td>7679</td>\n",
       "      <td>15044</td>\n",
       "    </tr>\n",
       "    <tr>\n",
       "      <th>9320</th>\n",
       "      <td>9321</td>\n",
       "      <td>Pittsburgh Mills</td>\n",
       "      <td>2022-09-27 08:48:00</td>\n",
       "      <td>2022-09-29 10:13:00</td>\n",
       "      <td>119778</td>\n",
       "      <td>15214</td>\n",
       "    </tr>\n",
       "    <tr>\n",
       "      <th>9321</th>\n",
       "      <td>9322</td>\n",
       "      <td>Washington</td>\n",
       "      <td>2022-09-27 08:48:00</td>\n",
       "      <td>2022-09-29 10:13:00</td>\n",
       "      <td>119778</td>\n",
       "      <td>15214</td>\n",
       "    </tr>\n",
       "    <tr>\n",
       "      <th>9442</th>\n",
       "      <td>9443</td>\n",
       "      <td>Beaver</td>\n",
       "      <td>2021-09-30 18:12:00</td>\n",
       "      <td>2021-04-10 14:14:00</td>\n",
       "      <td>11132</td>\n",
       "      <td>15220</td>\n",
       "    </tr>\n",
       "    <tr>\n",
       "      <th>9443</th>\n",
       "      <td>9444</td>\n",
       "      <td>Butler</td>\n",
       "      <td>2021-09-30 18:12:00</td>\n",
       "      <td>2021-04-10 14:14:00</td>\n",
       "      <td>11132</td>\n",
       "      <td>15220</td>\n",
       "    </tr>\n",
       "  </tbody>\n",
       "</table>\n",
       "<p>264 rows × 6 columns</p>\n",
       "</div>"
      ],
      "text/plain": [
       "       S/N         Warehouse          Order date       Delivery date Customer  \\\n",
       "14      15        Washington 2021-01-06 21:35:00 2021-02-06 16:44:00     2956   \n",
       "15      16      McKees Rocks 2021-01-06 21:35:00 2021-02-06 16:44:00     2956   \n",
       "58      59            Butler 2021-01-12 14:06:00 2021-03-12 15:57:00    11396   \n",
       "59      60            Beaver 2021-01-12 14:06:00 2021-03-12 15:57:00    11396   \n",
       "82      83      McKees Rocks 2021-02-08 13:12:00 2021-03-08 16:57:00    16332   \n",
       "...    ...               ...                 ...                 ...      ...   \n",
       "9169  9170        Washington 2021-09-23 20:01:00 2021-09-29 16:35:00     7679   \n",
       "9320  9321  Pittsburgh Mills 2022-09-27 08:48:00 2022-09-29 10:13:00   119778   \n",
       "9321  9322        Washington 2022-09-27 08:48:00 2022-09-29 10:13:00   119778   \n",
       "9442  9443            Beaver 2021-09-30 18:12:00 2021-04-10 14:14:00    11132   \n",
       "9443  9444            Butler 2021-09-30 18:12:00 2021-04-10 14:14:00    11132   \n",
       "\n",
       "     Zipcode  \n",
       "14     15241  \n",
       "15     15241  \n",
       "58     15220  \n",
       "59     15220  \n",
       "82     15317  \n",
       "...      ...  \n",
       "9169   15044  \n",
       "9320   15214  \n",
       "9321   15214  \n",
       "9442   15220  \n",
       "9443   15220  \n",
       "\n",
       "[264 rows x 6 columns]"
      ]
     },
     "execution_count": 11,
     "metadata": {},
     "output_type": "execute_result"
    }
   ],
   "source": [
    "duplicates_df = df[half_duplicates]\n",
    "\n",
    "duplicates_df"
   ]
  },
  {
   "cell_type": "markdown",
   "id": "0545a4ef",
   "metadata": {},
   "source": [
    "Based on the above data of duplicates, there is a likelihood that the duplicated data represents the same orders recorded in different warehouses. Since this analysis focuses on each customer order, I will drop the duplicates."
   ]
  },
  {
   "cell_type": "code",
   "execution_count": 12,
   "id": "20b0eff5",
   "metadata": {},
   "outputs": [
    {
     "name": "stdout",
     "output_type": "stream",
     "text": [
      "0\n"
     ]
    }
   ],
   "source": [
    "#dropping duplicates and checking if change is successful\n",
    "\n",
    "df.drop_duplicates(subset=['Order date', 'Delivery date', 'Customer'], inplace=True)\n",
    "\n",
    "half_duplicates = df.duplicated(subset=['Order date', 'Delivery date', 'Customer'])\n",
    "print(half_duplicates.sum())"
   ]
  },
  {
   "cell_type": "markdown",
   "id": "1549c8a5",
   "metadata": {},
   "source": [
    "## Data Analysis"
   ]
  },
  {
   "cell_type": "markdown",
   "id": "3565be15",
   "metadata": {},
   "source": [
    "### Zip Code with the most Orders"
   ]
  },
  {
   "cell_type": "code",
   "execution_count": 13,
   "id": "7213c916",
   "metadata": {},
   "outputs": [
    {
     "data": {
      "text/plain": [
       "array(['15317', '15102', '15301', '15228', '15218', '15044', '15236',\n",
       "       '15017', '15241', '15367', '15216', '15220', '15237', '15221',\n",
       "       '15227', '15222', '15057', '15106', '15129', '15206', '15205',\n",
       "       '15211', '15233', '15212', '15235', '15213', '15090', '15226',\n",
       "       '15120', '15234', '15207', '15243', '15210', '15055', '15201',\n",
       "       '15217', '15224', '15203', '15321', '15143', '15209', '15223',\n",
       "       '15144', '15232', '15007', '44223', '15112', '15202', '15208',\n",
       "       '15332', '15214', '15342', '15084', '16001', '15136', '15010',\n",
       "       '44485', '44512', '44320', '15238', '44321', '15101', '16066',\n",
       "       '15116', '15219', '15147', '15204', '44442', '15122', '15146',\n",
       "       '44312', '44515', '44484', '15071', '15330', '15031', '15108',\n",
       "       '44514', '15239', '15215', '16046', '15229', '29680', '44505',\n",
       "       '16002', '44420', '15068', '44511', '16101', '15145', '15063',\n",
       "       '26501', '15035', '44509', '44266', '44446', '44471'], dtype=object)"
      ]
     },
     "execution_count": 13,
     "metadata": {},
     "output_type": "execute_result"
    }
   ],
   "source": [
    "df['Zipcode'].unique()"
   ]
  },
  {
   "cell_type": "code",
   "execution_count": 14,
   "id": "ba8d9213",
   "metadata": {},
   "outputs": [
    {
     "name": "stdout",
     "output_type": "stream",
     "text": [
      "15241    895\n",
      "15317    805\n",
      "15237    551\n",
      "15220    501\n",
      "15102    420\n",
      "        ... \n",
      "15031      1\n",
      "44505      1\n",
      "29680      1\n",
      "44320      1\n",
      "44471      1\n",
      "Name: Zipcode, Length: 97, dtype: int64\n"
     ]
    }
   ],
   "source": [
    "zip_counts = df['Zipcode'].value_counts()\n",
    "\n",
    "print(zip_counts)"
   ]
  },
  {
   "cell_type": "markdown",
   "id": "2258586e",
   "metadata": {},
   "source": [
    "The Zip code with the most orders is 15241 with 895 orders. It is followed closely by 15317 with 805 orders and the third is 15237 with 551 orders. "
   ]
  },
  {
   "cell_type": "markdown",
   "id": "ddd2b54c",
   "metadata": {},
   "source": [
    "### Ratio of one-time customers to returning customers"
   ]
  },
  {
   "cell_type": "code",
   "execution_count": 21,
   "id": "c27dd560",
   "metadata": {},
   "outputs": [
    {
     "name": "stdout",
     "output_type": "stream",
     "text": [
      "The ratio of one time customers to returning customers is 794 to 957\n"
     ]
    }
   ],
   "source": [
    "customerorders = df['Customer'].value_counts()\n",
    "\n",
    "one_time_customers = sum(customerorders == 1)\n",
    "repeat_customers = sum(customerorders > 1)\n",
    "\n",
    "print(\"The ratio of one time customers to returning customers is\", one_time_customers, \"to\", repeat_customers)"
   ]
  },
  {
   "cell_type": "markdown",
   "id": "db4df55a",
   "metadata": {},
   "source": [
    "### What is the distribution of order times? (When are customers likley to make orders?)"
   ]
  },
  {
   "cell_type": "code",
   "execution_count": 26,
   "id": "ed55a9ee",
   "metadata": {},
   "outputs": [
    {
     "data": {
      "image/png": "[encoded data removed]",
      "text/plain": [
       "<Figure size 1000x600 with 1 Axes>"
      ]
     },
     "metadata": {},
     "output_type": "display_data"
    }
   ],
   "source": [
    "df['Order Hour'] = df['Order date'].dt.hour\n",
    "\n",
    "plt.figure(figsize=(10, 6))\n",
    "plt.hist(df['Order Hour'], bins=50, edgecolor='black')\n",
    "plt.title('Distribution of Order Times')\n",
    "plt.xlabel('Order Time')\n",
    "plt.ylabel('Number of Orders')\n",
    "plt.xticks(rotation=45)\n",
    "plt.show()"
   ]
  },
  {
   "cell_type": "markdown",
   "id": "85977b1e",
   "metadata": {},
   "source": [
    "Based on this chart, Orders are highest at 11:00 p.m. However, the orders are lowest after midnight to 06:00 a.m. The orders then increase significantly in the morning to middday and the decline in the afternoon. The customers orders start to increase again after 7:00 p.m."
   ]
  },
  {
   "cell_type": "markdown",
   "id": "5ad1d770",
   "metadata": {},
   "source": [
    "### What was the average delivery time for one-time customers versus returning customers?"
   ]
  },
  {
   "cell_type": "code",
   "execution_count": 28,
   "id": "50964ed8",
   "metadata": {},
   "outputs": [
    {
     "data": {
      "text/html": [
       "<div>\n",
       "<style scoped>\n",
       "    .dataframe tbody tr th:only-of-type {\n",
       "        vertical-align: middle;\n",
       "    }\n",
       "\n",
       "    .dataframe tbody tr th {\n",
       "        vertical-align: top;\n",
       "    }\n",
       "\n",
       "    .dataframe thead th {\n",
       "        text-align: right;\n",
       "    }\n",
       "</style>\n",
       "<table border=\"1\" class=\"dataframe\">\n",
       "  <thead>\n",
       "    <tr style=\"text-align: right;\">\n",
       "      <th></th>\n",
       "      <th>S/N</th>\n",
       "      <th>Warehouse</th>\n",
       "      <th>Order date</th>\n",
       "      <th>Delivery date</th>\n",
       "      <th>Customer</th>\n",
       "      <th>Zipcode</th>\n",
       "      <th>Order Hour</th>\n",
       "      <th>delivery time</th>\n",
       "    </tr>\n",
       "  </thead>\n",
       "  <tbody>\n",
       "    <tr>\n",
       "      <th>0</th>\n",
       "      <td>1</td>\n",
       "      <td>Butler</td>\n",
       "      <td>2021-01-03 13:44:00</td>\n",
       "      <td>2021-01-03 18:39:00</td>\n",
       "      <td>8240</td>\n",
       "      <td>15317</td>\n",
       "      <td>13</td>\n",
       "      <td>0 days 04:55:00</td>\n",
       "    </tr>\n",
       "    <tr>\n",
       "      <th>1</th>\n",
       "      <td>2</td>\n",
       "      <td>McKees Rocks</td>\n",
       "      <td>2021-01-04 06:26:00</td>\n",
       "      <td>2021-01-04 15:28:00</td>\n",
       "      <td>484</td>\n",
       "      <td>15102</td>\n",
       "      <td>6</td>\n",
       "      <td>0 days 09:02:00</td>\n",
       "    </tr>\n",
       "    <tr>\n",
       "      <th>2</th>\n",
       "      <td>3</td>\n",
       "      <td>Butler</td>\n",
       "      <td>2021-01-04 06:29:00</td>\n",
       "      <td>2021-01-04 19:29:00</td>\n",
       "      <td>13512</td>\n",
       "      <td>15301</td>\n",
       "      <td>6</td>\n",
       "      <td>0 days 13:00:00</td>\n",
       "    </tr>\n",
       "    <tr>\n",
       "      <th>3</th>\n",
       "      <td>4</td>\n",
       "      <td>Butler</td>\n",
       "      <td>2021-01-04 07:31:00</td>\n",
       "      <td>2021-01-04 15:59:00</td>\n",
       "      <td>11326</td>\n",
       "      <td>15228</td>\n",
       "      <td>7</td>\n",
       "      <td>0 days 08:28:00</td>\n",
       "    </tr>\n",
       "    <tr>\n",
       "      <th>4</th>\n",
       "      <td>5</td>\n",
       "      <td>Butler</td>\n",
       "      <td>2021-01-04 19:12:00</td>\n",
       "      <td>2021-02-04 16:10:00</td>\n",
       "      <td>13306</td>\n",
       "      <td>15301</td>\n",
       "      <td>19</td>\n",
       "      <td>30 days 20:58:00</td>\n",
       "    </tr>\n",
       "  </tbody>\n",
       "</table>\n",
       "</div>"
      ],
      "text/plain": [
       "   S/N     Warehouse          Order date       Delivery date Customer Zipcode  \\\n",
       "0    1        Butler 2021-01-03 13:44:00 2021-01-03 18:39:00     8240   15317   \n",
       "1    2  McKees Rocks 2021-01-04 06:26:00 2021-01-04 15:28:00      484   15102   \n",
       "2    3        Butler 2021-01-04 06:29:00 2021-01-04 19:29:00    13512   15301   \n",
       "3    4        Butler 2021-01-04 07:31:00 2021-01-04 15:59:00    11326   15228   \n",
       "4    5        Butler 2021-01-04 19:12:00 2021-02-04 16:10:00    13306   15301   \n",
       "\n",
       "   Order Hour    delivery time  \n",
       "0          13  0 days 04:55:00  \n",
       "1           6  0 days 09:02:00  \n",
       "2           6  0 days 13:00:00  \n",
       "3           7  0 days 08:28:00  \n",
       "4          19 30 days 20:58:00  "
      ]
     },
     "execution_count": 28,
     "metadata": {},
     "output_type": "execute_result"
    }
   ],
   "source": [
    "df['delivery time'] = df['Delivery date'] - df['Order date'] \n",
    "\n",
    "df.head()\n"
   ]
  },
  {
   "cell_type": "markdown",
   "id": "e5a17e20",
   "metadata": {},
   "source": [
    "### What was the average deliery time across Zip codes and in each month?"
   ]
  },
  {
   "cell_type": "markdown",
   "id": "c3649c77",
   "metadata": {},
   "source": [
    "### Which warehouse had the most orders in each Zip code?"
   ]
  },
  {
   "cell_type": "markdown",
   "id": "9e77a3a7",
   "metadata": {},
   "source": [
    "### Did orders increase or decrease each month across Zip codes?"
   ]
  },
  {
   "cell_type": "markdown",
   "id": "fefaa3ca",
   "metadata": {},
   "source": [
    "### Which season had the fastest deliveries?"
   ]
  },
  {
   "cell_type": "markdown",
   "id": "3fdd17ef",
   "metadata": {},
   "source": [
    "### Which warehouse had the fastest deliveries?"
   ]
  }
 ],
 "metadata": {
  "kernelspec": {
   "display_name": "Python 3 (ipykernel)",
   "language": "python",
   "name": "python3"
  },
  "language_info": {
   "codemirror_mode": {
    "name": "ipython",
    "version": 3
   },
   "file_extension": ".py",
   "mimetype": "text/x-python",
   "name": "python",
   "nbconvert_exporter": "python",
   "pygments_lexer": "ipython3",
   "version": "3.9.13"
  }
 },
 "nbformat": 4,
 "nbformat_minor": 5
}
